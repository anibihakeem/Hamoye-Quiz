{
 "cells": [
  {
   "cell_type": "code",
   "execution_count": 4,
   "id": "26b1fd52",
   "metadata": {},
   "outputs": [],
   "source": [
    "import numpy as np\n",
    "import pandas as pd\n",
    "import seaborn as sns\n",
    "import matplotlib.pyplot as plt"
   ]
  },
  {
   "cell_type": "code",
   "execution_count": 3,
   "id": "c686d7d9",
   "metadata": {},
   "outputs": [],
   "source": [
    "df = pd.read_csv('FoodBalanceSheets.csv',encoding=\"latin-1\") "
   ]
  },
  {
   "cell_type": "code",
   "execution_count": 10,
   "id": "f2f7eb9a",
   "metadata": {
    "scrolled": true
   },
   "outputs": [
    {
     "name": "stdout",
     "output_type": "stream",
     "text": [
      "                                        Area Code     Area  Item Code  \\\n",
      "Element                                                                 \n",
      "Domestic supply quantity                        4  Algeria       2501   \n",
      "Export Quantity                                 4  Algeria       2905   \n",
      "Fat supply quantity (g/capita/day)              4  Algeria       2901   \n",
      "Feed                                            4  Algeria       2905   \n",
      "Food                                            4  Algeria       2905   \n",
      "Food supply (kcal/capita/day)                   4  Algeria       2901   \n",
      "Food supply quantity (kg/capita/yr)             4  Algeria       2905   \n",
      "Import Quantity                                 4  Algeria       2905   \n",
      "Losses                                          4  Algeria       2905   \n",
      "Other uses (non-food)                           4  Algeria       2905   \n",
      "Processing                                      4  Algeria       2905   \n",
      "Production                                      4  Algeria       2905   \n",
      "Protein supply quantity (g/capita/day)          4  Algeria       2901   \n",
      "Residuals                                       4  Algeria       2905   \n",
      "Seed                                            4  Algeria       2905   \n",
      "Stock Variation                                 4  Algeria       2905   \n",
      "Total Population - Both sexes                   4  Algeria       2501   \n",
      "Tourist consumption                             7   Angola       2913   \n",
      "\n",
      "                                                            Item  \\\n",
      "Element                                                            \n",
      "Domestic supply quantity                              Population   \n",
      "Export Quantity                         Cereals - Excluding Beer   \n",
      "Fat supply quantity (g/capita/day)                   Grand Total   \n",
      "Feed                                    Cereals - Excluding Beer   \n",
      "Food                                    Cereals - Excluding Beer   \n",
      "Food supply (kcal/capita/day)                        Grand Total   \n",
      "Food supply quantity (kg/capita/yr)     Cereals - Excluding Beer   \n",
      "Import Quantity                         Cereals - Excluding Beer   \n",
      "Losses                                  Cereals - Excluding Beer   \n",
      "Other uses (non-food)                   Cereals - Excluding Beer   \n",
      "Processing                              Cereals - Excluding Beer   \n",
      "Production                              Cereals - Excluding Beer   \n",
      "Protein supply quantity (g/capita/day)               Grand Total   \n",
      "Residuals                               Cereals - Excluding Beer   \n",
      "Seed                                    Cereals - Excluding Beer   \n",
      "Stock Variation                         Cereals - Excluding Beer   \n",
      "Total Population - Both sexes                         Population   \n",
      "Tourist consumption                                     Oilcrops   \n",
      "\n",
      "                                        Element Code             Unit  \\\n",
      "Element                                                                 \n",
      "Domestic supply quantity                        5301      1000 tonnes   \n",
      "Export Quantity                                 5911      1000 tonnes   \n",
      "Fat supply quantity (g/capita/day)               684     g/capita/day   \n",
      "Feed                                            5521      1000 tonnes   \n",
      "Food                                            5142      1000 tonnes   \n",
      "Food supply (kcal/capita/day)                    664  kcal/capita/day   \n",
      "Food supply quantity (kg/capita/yr)              645               kg   \n",
      "Import Quantity                                 5611      1000 tonnes   \n",
      "Losses                                          5123      1000 tonnes   \n",
      "Other uses (non-food)                           5154      1000 tonnes   \n",
      "Processing                                      5131      1000 tonnes   \n",
      "Production                                      5511      1000 tonnes   \n",
      "Protein supply quantity (g/capita/day)           674     g/capita/day   \n",
      "Residuals                                       5170      1000 tonnes   \n",
      "Seed                                            5527      1000 tonnes   \n",
      "Stock Variation                                 5072      1000 tonnes   \n",
      "Total Population - Both sexes                    511     1000 persons   \n",
      "Tourist consumption                             5171      1000 tonnes   \n",
      "\n",
      "                                           Y2014     Y2015     Y2016  \\\n",
      "Element                                                                \n",
      "Domestic supply quantity                    0.00      0.00      0.00   \n",
      "Export Quantity                             3.00      7.00      7.00   \n",
      "Fat supply quantity (g/capita/day)         80.06     79.36     77.40   \n",
      "Feed                                     4725.00   5070.00   4838.00   \n",
      "Food                                     8546.00   8729.00   9001.00   \n",
      "Food supply (kcal/capita/day)            3377.00   3379.00   3372.00   \n",
      "Food supply quantity (kg/capita/yr)       219.56    219.72    221.98   \n",
      "Import Quantity                         12604.00  13983.00  13523.00   \n",
      "Losses                                   1084.00   1203.00   1148.00   \n",
      "Other uses (non-food)                     787.00    847.00    835.00   \n",
      "Processing                                 35.00     38.00     37.00   \n",
      "Production                               3436.00   3761.00   3445.00   \n",
      "Protein supply quantity (g/capita/day)     94.90     94.35     94.72   \n",
      "Residuals                                   0.00      0.00      0.00   \n",
      "Seed                                      177.00    189.00    197.00   \n",
      "Stock Variation                           684.00   1663.00    905.00   \n",
      "Total Population - Both sexes           38924.00  39728.00  40551.00   \n",
      "Tourist consumption                         0.00      0.00      0.00   \n",
      "\n",
      "                                           Y2017     Y2018  \n",
      "Element                                                     \n",
      "Domestic supply quantity                    0.00      0.00  \n",
      "Export Quantity                            10.00     17.00  \n",
      "Fat supply quantity (g/capita/day)         80.19     77.28  \n",
      "Feed                                     4667.00   5266.00  \n",
      "Food                                     8941.00   9219.00  \n",
      "Food supply (kcal/capita/day)            3341.00   3322.00  \n",
      "Food supply quantity (kg/capita/yr)       216.02    218.31  \n",
      "Import Quantity                         13039.00  13182.00  \n",
      "Losses                                   1121.00   1253.00  \n",
      "Other uses (non-food)                     840.00    951.00  \n",
      "Processing                                 33.00     44.00  \n",
      "Production                               3478.00   6065.00  \n",
      "Protein supply quantity (g/capita/day)     92.82     91.83  \n",
      "Residuals                                   0.00     -8.00  \n",
      "Seed                                      202.00    278.00  \n",
      "Stock Variation                           705.00   2226.00  \n",
      "Total Population - Both sexes           41389.00  42228.00  \n",
      "Tourist consumption                         0.00      0.00  \n"
     ]
    }
   ],
   "source": [
    "print(df.groupby('Element').first())"
   ]
  },
  {
   "cell_type": "code",
   "execution_count": 15,
   "id": "331dfd1d",
   "metadata": {},
   "outputs": [
    {
     "name": "stdout",
     "output_type": "stream",
     "text": [
      "   Age Nationality  Overall\n",
      "1   35    Portugal       94\n",
      "2   33   Argentina       93\n",
      "3   30      Brazil       92\n"
     ]
    }
   ],
   "source": [
    "lst = [[35, 'Portugal', 94], [33, 'Argentina', 93], [30 , 'Brazil', 92]]\n",
    "\n",
    "col = ['Age','Nationality','Overall']\n",
    "\n",
    "frame = pd.DataFrame(lst,columns = col, index = [i for i in range (1,4)])\n",
    "print(frame)"
   ]
  },
  {
   "cell_type": "code",
   "execution_count": 16,
   "id": "d8c46c57",
   "metadata": {},
   "outputs": [
    {
     "name": "stdout",
     "output_type": "stream",
     "text": [
      "Element\n",
      "Domestic supply quantity                  5295\n",
      "Export Quantity                           4403\n",
      "Fat supply quantity (g/capita/day)        5023\n",
      "Feed                                      1319\n",
      "Food                                      4941\n",
      "Food supply (kcal/capita/day)             5014\n",
      "Food supply quantity (kg/capita/yr)       4905\n",
      "Import Quantity                           5139\n",
      "Losses                                    2009\n",
      "Other uses (non-food)                     1732\n",
      "Processing                                2010\n",
      "Production                                3881\n",
      "Protein supply quantity (g/capita/day)    5023\n",
      "Residuals                                 4655\n",
      "Seed                                       762\n",
      "Stock Variation                           4232\n",
      "Total Population - Both sexes               45\n",
      "Tourist consumption                        555\n",
      "Name: Element, dtype: int64\n"
     ]
    }
   ],
   "source": [
    "print(df.groupby('Element')['Element'].count())"
   ]
  },
  {
   "cell_type": "code",
   "execution_count": 68,
   "id": "9fd2e806",
   "metadata": {},
   "outputs": [
    {
     "ename": "AttributeError",
     "evalue": "'DataFrame' object has no attribute 'grouby'",
     "output_type": "error",
     "traceback": [
      "\u001b[1;31m---------------------------------------------------------------------------\u001b[0m",
      "\u001b[1;31mAttributeError\u001b[0m                            Traceback (most recent call last)",
      "Input \u001b[1;32mIn [68]\u001b[0m, in \u001b[0;36m<cell line: 1>\u001b[1;34m()\u001b[0m\n\u001b[1;32m----> 1\u001b[0m \u001b[38;5;28mprint\u001b[39m(\u001b[43mdf\u001b[49m\u001b[38;5;241;43m.\u001b[39;49m\u001b[43mgrouby\u001b[49m(\u001b[38;5;124m'\u001b[39m\u001b[38;5;124mArea\u001b[39m\u001b[38;5;124m'\u001b[39m)[\u001b[38;5;124m'\u001b[39m\u001b[38;5;124mY2017\u001b[39m\u001b[38;5;124m'\u001b[39m]\u001b[38;5;241m.\u001b[39mdescribe())\n",
      "File \u001b[1;32mC:\\ProgramData\\Anaconda3\\lib\\site-packages\\pandas\\core\\generic.py:5575\u001b[0m, in \u001b[0;36mNDFrame.__getattr__\u001b[1;34m(self, name)\u001b[0m\n\u001b[0;32m   5568\u001b[0m \u001b[38;5;28;01mif\u001b[39;00m (\n\u001b[0;32m   5569\u001b[0m     name \u001b[38;5;129;01mnot\u001b[39;00m \u001b[38;5;129;01min\u001b[39;00m \u001b[38;5;28mself\u001b[39m\u001b[38;5;241m.\u001b[39m_internal_names_set\n\u001b[0;32m   5570\u001b[0m     \u001b[38;5;129;01mand\u001b[39;00m name \u001b[38;5;129;01mnot\u001b[39;00m \u001b[38;5;129;01min\u001b[39;00m \u001b[38;5;28mself\u001b[39m\u001b[38;5;241m.\u001b[39m_metadata\n\u001b[0;32m   5571\u001b[0m     \u001b[38;5;129;01mand\u001b[39;00m name \u001b[38;5;129;01mnot\u001b[39;00m \u001b[38;5;129;01min\u001b[39;00m \u001b[38;5;28mself\u001b[39m\u001b[38;5;241m.\u001b[39m_accessors\n\u001b[0;32m   5572\u001b[0m     \u001b[38;5;129;01mand\u001b[39;00m \u001b[38;5;28mself\u001b[39m\u001b[38;5;241m.\u001b[39m_info_axis\u001b[38;5;241m.\u001b[39m_can_hold_identifiers_and_holds_name(name)\n\u001b[0;32m   5573\u001b[0m ):\n\u001b[0;32m   5574\u001b[0m     \u001b[38;5;28;01mreturn\u001b[39;00m \u001b[38;5;28mself\u001b[39m[name]\n\u001b[1;32m-> 5575\u001b[0m \u001b[38;5;28;01mreturn\u001b[39;00m \u001b[38;5;28;43mobject\u001b[39;49m\u001b[38;5;241;43m.\u001b[39;49m\u001b[38;5;21;43m__getattribute__\u001b[39;49m\u001b[43m(\u001b[49m\u001b[38;5;28;43mself\u001b[39;49m\u001b[43m,\u001b[49m\u001b[43m \u001b[49m\u001b[43mname\u001b[49m\u001b[43m)\u001b[49m\n",
      "\u001b[1;31mAttributeError\u001b[0m: 'DataFrame' object has no attribute 'grouby'"
     ]
    }
   ],
   "source": [
    "print(df.grouby('Area')['Y2017'].describe())"
   ]
  },
  {
   "cell_type": "code",
   "execution_count": 55,
   "id": "fdd2d10f",
   "metadata": {
    "scrolled": true
   },
   "outputs": [
    {
     "name": "stdout",
     "output_type": "stream",
     "text": [
      "                             Area Code  Item Code  Element Code       Y2014  \\\n",
      "Area                                                                          \n",
      "Algeria                           5252    3532053       5017927   313375.33   \n",
      "Angola                            9968    3819908       5515088   208584.42   \n",
      "Benin                            68105    3453692       4852820   118050.79   \n",
      "Botswana                         27560    3704902       5259784    22339.92   \n",
      "Burkina Faso                    328297    3778795       5431243   105051.33   \n",
      "Cabo Verde                       44100    3396746       4787751    14576.94   \n",
      "Cameroon                         46720    3916078       5663196   217630.28   \n",
      "Central African Republic         49728    3607546       5069094    28739.02   \n",
      "Chad                             52377    3606529       5108355    65940.17   \n",
      "Comoros                           2025     124514        241681       32.00   \n",
      "Congo                            64998    3792029       5445560    38699.26   \n",
      "Côte d'Ivoire                   156969    3934818       5691192   195982.84   \n",
      "Djibouti                         78840    2956078       3980378    21332.28   \n",
      "Egypt                            87792    3996567       5893126   849192.30   \n",
      "Eswatini                        268356    3456174       4870226    53285.75   \n",
      "Ethiopia                        344386    3878162       5598223   415935.50   \n",
      "Ethiopia PDR                      2418     107853        209609        0.00   \n",
      "Gabon                            92130    3354410       4590308    28126.31   \n",
      "Gambia                           87600    3145402       4272295    19607.87   \n",
      "Ghana                           109674    3639339       5135536   308328.59   \n",
      "Guinea                          126900    3782145       5431286    91213.40   \n",
      "Guinea-Bissau                   197400    3035574       4011694    17708.67   \n",
      "Kenya                           177840    4185637       6211860   255211.01   \n",
      "Lesotho                         140300    3099348       4204994    19125.89   \n",
      "Liberia                         148338    3249929       4309057    27898.35   \n",
      "Madagascar                      185631    3864258       5619900   128985.32   \n",
      "Malawi                          188110    3879389       5600952   173454.86   \n",
      "Mali                            171969    3469876       4878889   123038.75   \n",
      "Mauritania                      162520    3222107       4297253   109557.63   \n",
      "Mauritius                       188786    3711587       5317897    50898.12   \n",
      "Morocco                         199199    3743082       5414999   375977.76   \n",
      "Mozambique                      205488    3830309       5566682   160757.87   \n",
      "Namibia                         188601    3452725       4813630    32026.42   \n",
      "Niger                           221674    3763737       5384208   108236.65   \n",
      "Nigeria                         234366    3954357       5726937  1399542.19   \n",
      "Rwanda                          262384    3824085       5477860    70001.38   \n",
      "Sao Tome and Principe           227161    3168050       4260866    12458.64   \n",
      "Senegal                         285090    3922180       5643618    78533.93   \n",
      "Seychelles                       13328     188266        367816      305.20   \n",
      "Sierra Leone                    244674    3343306       4603040    62570.89   \n",
      "South Africa                    282598    3759379       5450983   497289.52   \n",
      "Sudan                           363216    3534661       4866583   247577.56   \n",
      "Sudan (former)                   10918     146631        286940        0.00   \n",
      "Togo                            280798    3478828       4868747    47618.05   \n",
      "Tunisia                         297036    3602818       5131662   117029.33   \n",
      "Uganda                          329508    3909109       5660301   218142.33   \n",
      "United Republic of Tanzania     305085    3809549       5461092   337430.64   \n",
      "Zambia                          364201    3892801       5638889    99318.53   \n",
      "Zimbabwe                        252133    3739292       5346770    78366.34   \n",
      "\n",
      "                                  Y2015       Y2016       Y2017       Y2018  \n",
      "Area                                                                         \n",
      "Algeria                       324058.40   326007.41   325644.27   341729.98  \n",
      "Angola                        209565.67   214725.32   229159.57   235206.68  \n",
      "Benin                         108181.13   117963.59   124771.22   124960.70  \n",
      "Botswana                       23024.85    22970.65    22101.30    23129.08  \n",
      "Burkina Faso                  102701.22   107702.27   101855.07   112970.72  \n",
      "Cabo Verde                     14538.93    14569.40    14650.74    14622.60  \n",
      "Cameroon                      225220.72   231714.36   232030.43   233022.93  \n",
      "Central African Republic       28885.34    29454.54    29937.00    30101.57  \n",
      "Chad                           65835.88    72673.76    71594.68    72282.24  \n",
      "Comoros                           41.34       54.91       59.84       59.84  \n",
      "Congo                          40255.51    40592.66    41181.68    42005.53  \n",
      "Côte d'Ivoire                 211591.29   211439.20   224599.01   227018.00  \n",
      "Djibouti                       23690.16    21783.91    22729.91    23718.96  \n",
      "Egypt                         868218.73   858568.63   866379.92   852652.92  \n",
      "Eswatini                       54072.07    54025.21    54343.33    55045.07  \n",
      "Ethiopia                      429139.33   444567.57   448683.76   450788.86  \n",
      "Ethiopia PDR                       0.00        0.00        0.00        0.00  \n",
      "Gabon                          28367.30    28129.95    27979.64    28339.38  \n",
      "Gambia                         19665.39    21758.15    23154.18    23513.80  \n",
      "Ghana                         311092.13   314320.45   337599.06   358915.64  \n",
      "Guinea                         92803.39    95450.24    98138.87   103262.08  \n",
      "Guinea-Bissau                  17990.06    18524.83    19102.77    18997.92  \n",
      "Kenya                         265506.19   260257.56   264660.66   270916.80  \n",
      "Lesotho                        17965.84    17258.96    21267.96    19109.23  \n",
      "Liberia                        28698.10    29746.68    29342.20    29629.83  \n",
      "Madagascar                    126674.90   129010.25   131197.73   134576.44  \n",
      "Malawi                        167989.09   164970.42   181098.71   187366.09  \n",
      "Mali                          132456.58   147324.78   149928.33   159026.42  \n",
      "Mauritania                     61909.99    79872.42   156665.46   157479.95  \n",
      "Mauritius                      53372.42    49272.41    51114.83    47150.91  \n",
      "Morocco                       412473.80   367884.18   388495.36   399271.27  \n",
      "Mozambique                    158231.17   159924.41   161407.98   164934.05  \n",
      "Namibia                        30687.90    30389.07    29874.89    29350.04  \n",
      "Niger                         117834.65   123601.88   126707.58   133982.86  \n",
      "Nigeria                      1414362.83  1482945.71  1483268.23  1499774.24  \n",
      "Rwanda                         70138.83    70921.76    73663.69    74839.08  \n",
      "Sao Tome and Principe          12386.93    12647.56    12662.63    12806.49  \n",
      "Senegal                        91939.14    89017.72    95681.15    95493.82  \n",
      "Seychelles                       358.20      416.32      442.34      442.34  \n",
      "Sierra Leone                   62523.14    52767.72    55311.33    55981.73  \n",
      "South Africa                  468352.18   462224.16   517590.54   509787.97  \n",
      "Sudan                         230652.54   253197.29   239931.92   268054.39  \n",
      "Sudan (former)                     0.00        0.00        0.00        0.00  \n",
      "Togo                           47834.59    47930.75    49841.88    54872.00  \n",
      "Tunisia                       128211.41   123778.86   124167.20   127343.17  \n",
      "Uganda                        220615.72   202981.34   213950.38   222147.25  \n",
      "United Republic of Tanzania   341969.46   333765.86   322616.85   349763.41  \n",
      "Zambia                         96214.00    97728.69   103223.77   101604.27  \n",
      "Zimbabwe                       74041.79    75638.88    75919.34    76581.41  \n"
     ]
    }
   ],
   "source": [
    "print(df.groupby('Area').sum())"
   ]
  },
  {
   "cell_type": "code",
   "execution_count": 57,
   "id": "5db0bef3",
   "metadata": {
    "scrolled": true
   },
   "outputs": [
    {
     "name": "stdout",
     "output_type": "stream",
     "text": [
      "                     Area Code  Item Code  Element Code      Y2014      Y2015  \\\n",
      "Item                                                                            \n",
      "Alcohol, Non-Food        38447     752497       1515090    2403.00    2180.00   \n",
      "Alcoholic Beverages      75016    1649136       2171381  102410.11   98783.72   \n",
      "Animal Products          18060     397035         90990   11935.65   11811.73   \n",
      "Animal fats              85279    1882494       2567303  209460.54  200675.72   \n",
      "Apples and products      69280    1352989       1920418    9499.23   10559.15   \n",
      "...                        ...        ...           ...        ...        ...   \n",
      "Vegetables, Other        77779    1518715       2275409  155038.96  158104.08   \n",
      "Vegetal Products         18060     391905         90990  107145.19  107064.17   \n",
      "Wheat and products       87073    1639683       2654934  232670.13  234710.51   \n",
      "Wine                     66206    1319535       1818328    4497.36    4251.81   \n",
      "Yams                     50798     970905       1525745  200396.96  203151.78   \n",
      "\n",
      "                         Y2016      Y2017      Y2018  \n",
      "Item                                                  \n",
      "Alcohol, Non-Food      2223.00    2348.00    2293.00  \n",
      "Alcoholic Beverages   96958.75   95581.06   97847.27  \n",
      "Animal Products       11661.69   11547.65   11578.61  \n",
      "Animal fats          183314.22  269617.53  269648.27  \n",
      "Apples and products    9853.26   10198.90    9640.51  \n",
      "...                        ...        ...        ...  \n",
      "Vegetables, Other    156218.90  157752.59  163987.21  \n",
      "Vegetal Products     106792.72  107655.20  107775.39  \n",
      "Wheat and products   239377.07  240047.62  242645.19  \n",
      "Wine                   3872.09    4178.02    4039.32  \n",
      "Yams                 220626.20  229174.59  221272.09  \n",
      "\n",
      "[119 rows x 8 columns]\n"
     ]
    }
   ],
   "source": [
    "print(df.groupby('Item').sum())"
   ]
  },
  {
   "cell_type": "code",
   "execution_count": 62,
   "id": "81285211",
   "metadata": {},
   "outputs": [
    {
     "name": "stdout",
     "output_type": "stream",
     "text": [
      "1589\n"
     ]
    }
   ],
   "source": [
    "print(df['Y2014'].isnull().sum())"
   ]
  },
  {
   "cell_type": "code",
   "execution_count": 61,
   "id": "f2ab9554",
   "metadata": {},
   "outputs": [
    {
     "name": "stdout",
     "output_type": "stream",
     "text": [
      "2.6073544131401474\n"
     ]
    }
   ],
   "source": [
    "print(df['Y2014'].isnull().sum()*100/len(df))"
   ]
  },
  {
   "cell_type": "code",
   "execution_count": null,
   "id": "03de4049",
   "metadata": {},
   "outputs": [],
   "source": []
  }
 ],
 "metadata": {
  "kernelspec": {
   "display_name": "Python 3 (ipykernel)",
   "language": "python",
   "name": "python3"
  },
  "language_info": {
   "codemirror_mode": {
    "name": "ipython",
    "version": 3
   },
   "file_extension": ".py",
   "mimetype": "text/x-python",
   "name": "python",
   "nbconvert_exporter": "python",
   "pygments_lexer": "ipython3",
   "version": "3.9.12"
  }
 },
 "nbformat": 4,
 "nbformat_minor": 5
}
